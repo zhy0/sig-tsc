{
 "cells": [
  {
   "cell_type": "markdown",
   "metadata": {},
   "source": [
    "# Univariate time series classification using Signatures/Log signatures\n",
    "\n",
    "In this notebook, we explore the classification results of signature/log signature features 114 datasets of the [UCR repository](https://arxiv.org/abs/1810.07758)."
   ]
  },
  {
   "cell_type": "code",
   "execution_count": 1,
   "metadata": {},
   "outputs": [],
   "source": [
    "import numpy as np\n",
    "import pandas as pd\n",
    "import matplotlib.pyplot as plt\n",
    "%matplotlib inline"
   ]
  },
  {
   "cell_type": "code",
   "execution_count": 2,
   "metadata": {},
   "outputs": [],
   "source": [
    "DATASETS = [\n",
    "    \"ACSF1\", \"Adiac\", \"AllGestureWiimoteX\", \"AllGestureWiimoteY\",\n",
    "    \"AllGestureWiimoteZ\", \"ArrowHead\", \"Beef\", \"BeetleFly\", \"BirdChicken\",\n",
    "    \"BME\", \"Car\", \"CBF\", \"Chinatown\", \"ChlorineConcentration\",\n",
    "    \"CinCECGTorso\", \"Coffee\", \"Computers\", \"CricketX\", \"CricketY\",\n",
    "    \"CricketZ\", \"Crop\", \"DiatomSizeReduction\",\n",
    "    \"DistalPhalanxOutlineAgeGroup\", \"DistalPhalanxOutlineCorrect\",\n",
    "    \"DistalPhalanxTW\", \"DodgerLoopDay\", \"DodgerLoopGame\",\n",
    "    \"DodgerLoopWeekend\", \"Earthquakes\", \"ECG200\", \"ECG5000\", \"ECGFiveDays\",\n",
    "    \"ElectricDevices\", \"EOGHorizontalSignal\", \"EOGVerticalSignal\",\n",
    "    \"EthanolLevel\", \"FaceAll\", \"FaceFour\", \"FacesUCR\", \"FiftyWords\",\n",
    "    \"Fish\", \"FordA\", \"FordB\", \"FreezerRegularTrain\", \"FreezerSmallTrain\",\n",
    "    \"Fungi\", \"GestureMidAirD1\", \"GestureMidAirD2\", \"GestureMidAirD3\",\n",
    "    \"GesturePebbleZ1\", \"GesturePebbleZ2\", \"GunPoint\", \"GunPointAgeSpan\",\n",
    "    \"GunPointMaleVersusFemale\", \"GunPointOldVersusYoung\", \"Ham\",\n",
    "    \"HandOutlines\", \"Haptics\", \"Herring\", \"HouseTwenty\", \"InlineSkate\",\n",
    "    \"InsectEPGRegularTrain\", \"InsectEPGSmallTrain\", \"InsectWingbeatSound\",\n",
    "    \"ItalyPowerDemand\", \"LargeKitchenAppliances\", \"Lightning2\",\n",
    "    \"Lightning7\", \"Mallat\", \"Meat\", \"MedicalImages\", \"MelbournePedestrian\",\n",
    "    \"MiddlePhalanxOutlineAgeGroup\", \"MiddlePhalanxOutlineCorrect\",\n",
    "    \"MiddlePhalanxTW\", \"MixedShapesRegularTrain\", \"MixedShapesSmallTrain\",\n",
    "    \"MoteStrain\", \"NonInvasiveFatalECGThorax1\",\n",
    "    \"NonInvasiveFatalECGThorax2\", \"OliveOil\", \"OSULeaf\",\n",
    "    \"PhalangesOutlinesCorrect\", \"Phoneme\", \"PickupGestureWiimoteZ\",\n",
    "    \"PigAirwayPressure\", \"PigArtPressure\", \"PigCVP\", \"PLAID\", \"Plane\",\n",
    "    \"PowerCons\", \"ProximalPhalanxOutlineAgeGroup\",\n",
    "    \"ProximalPhalanxOutlineCorrect\", \"ProximalPhalanxTW\",\n",
    "    \"RefrigerationDevices\", \"Rock\", \"ScreenType\", \"SemgHandGenderCh2\",\n",
    "    \"SemgHandMovementCh2\", \"SemgHandSubjectCh2\", \"ShakeGestureWiimoteZ\",\n",
    "    \"ShapeletSim\", \"ShapesAll\", \"SmallKitchenAppliances\", \"SmoothSubspace\",\n",
    "    \"SonyAIBORobotSurface1\", \"SonyAIBORobotSurface2\", \"StarLightCurves\",\n",
    "    \"Strawberry\", \"SwedishLeaf\", \"Symbols\", \"SyntheticControl\",\n",
    "    \"ToeSegmentation1\", \"ToeSegmentation2\", \"Trace\", \"TwoLeadECG\",\n",
    "    \"TwoPatterns\", \"UMD\",\n",
    "    \"UWaveGestureLibraryAll\", \"UWaveGestureLibraryX\",\n",
    "    \"UWaveGestureLibraryY\", \"UWaveGestureLibraryZ\", \"Wafer\", \"Wine\",\n",
    "    \"WordSynonyms\", \"Worms\", \"WormsTwoClass\", \"Yoga\",\n",
    "]"
   ]
  },
  {
   "cell_type": "markdown",
   "metadata": {},
   "source": [
    "The results are already stored in the Github repository under `results/ucr`, we only need run load them into this notebook."
   ]
  },
  {
   "cell_type": "code",
   "execution_count": 3,
   "metadata": {},
   "outputs": [],
   "source": [
    "def load_results(filename, results_dir='./results/ucr', datasets=DATASETS):\n",
    "    r = []\n",
    "    missing = []\n",
    "    names = []\n",
    "    for d in DATASETS:\n",
    "        try:\n",
    "            data = pd.read_pickle(f'{results_dir}/{d}/{filename}')\n",
    "            names.append(d)\n",
    "            r.append(data)\n",
    "        except FileNotFoundError:\n",
    "            missing.append(d)\n",
    "    return (pd.concat(r, keys=names), missing)\n"
   ]
  },
  {
   "cell_type": "markdown",
   "metadata": {},
   "source": [
    "Let's load the results for **log signatures + XGBoost** and **signatures + logistic regression**.\n",
    "The results are obtained using **default** `sklearn.linear_model.LogisticRegression` and `xgboost.XGBClassifier` settings. "
   ]
  },
  {
   "cell_type": "code",
   "execution_count": 4,
   "metadata": {},
   "outputs": [],
   "source": [
    "lgr, lgrmissing = load_results('sig_LogisticRegression_2_3_4_5_6_7_8_9_10.pkl')\n",
    "xgb, xgbmissing = load_results('logsig_XGBClassifier_2_3_4_5_6_7_8_9_10.pkl')"
   ]
  },
  {
   "cell_type": "markdown",
   "metadata": {},
   "source": [
    "Let's inspect results on a single dataset:"
   ]
  },
  {
   "cell_type": "code",
   "execution_count": 5,
   "metadata": {},
   "outputs": [
    {
     "data": {
      "text/html": [
       "<div>\n",
       "<style scoped>\n",
       "    .dataframe tbody tr th:only-of-type {\n",
       "        vertical-align: middle;\n",
       "    }\n",
       "\n",
       "    .dataframe tbody tr th {\n",
       "        vertical-align: top;\n",
       "    }\n",
       "\n",
       "    .dataframe thead th {\n",
       "        text-align: right;\n",
       "    }\n",
       "</style>\n",
       "<table border=\"1\" class=\"dataframe\">\n",
       "  <thead>\n",
       "    <tr style=\"text-align: right;\">\n",
       "      <th></th>\n",
       "      <th>leadlag</th>\n",
       "      <th>timejoined</th>\n",
       "      <th>timeindexed</th>\n",
       "      <th>leadlag_elapsed</th>\n",
       "      <th>timejoined_elapsed</th>\n",
       "      <th>timeindexed_elapsed</th>\n",
       "    </tr>\n",
       "  </thead>\n",
       "  <tbody>\n",
       "    <tr>\n",
       "      <th>2</th>\n",
       "      <td>0.562500</td>\n",
       "      <td>0.640625</td>\n",
       "      <td>0.640625</td>\n",
       "      <td>0.005758</td>\n",
       "      <td>0.007644</td>\n",
       "      <td>0.018551</td>\n",
       "    </tr>\n",
       "    <tr>\n",
       "      <th>3</th>\n",
       "      <td>0.593750</td>\n",
       "      <td>0.718750</td>\n",
       "      <td>0.640625</td>\n",
       "      <td>0.012811</td>\n",
       "      <td>0.014471</td>\n",
       "      <td>0.023167</td>\n",
       "    </tr>\n",
       "    <tr>\n",
       "      <th>4</th>\n",
       "      <td>0.578125</td>\n",
       "      <td>0.640625</td>\n",
       "      <td>0.640625</td>\n",
       "      <td>0.022009</td>\n",
       "      <td>0.024327</td>\n",
       "      <td>0.027862</td>\n",
       "    </tr>\n",
       "    <tr>\n",
       "      <th>5</th>\n",
       "      <td>0.578125</td>\n",
       "      <td>0.593750</td>\n",
       "      <td>0.562500</td>\n",
       "      <td>0.039215</td>\n",
       "      <td>0.039815</td>\n",
       "      <td>0.035772</td>\n",
       "    </tr>\n",
       "    <tr>\n",
       "      <th>6</th>\n",
       "      <td>0.625000</td>\n",
       "      <td>0.593750</td>\n",
       "      <td>0.578125</td>\n",
       "      <td>0.068118</td>\n",
       "      <td>0.070439</td>\n",
       "      <td>0.050806</td>\n",
       "    </tr>\n",
       "    <tr>\n",
       "      <th>7</th>\n",
       "      <td>0.562500</td>\n",
       "      <td>0.609375</td>\n",
       "      <td>0.578125</td>\n",
       "      <td>0.137824</td>\n",
       "      <td>0.139892</td>\n",
       "      <td>0.087163</td>\n",
       "    </tr>\n",
       "    <tr>\n",
       "      <th>8</th>\n",
       "      <td>0.625000</td>\n",
       "      <td>0.625000</td>\n",
       "      <td>0.578125</td>\n",
       "      <td>0.271212</td>\n",
       "      <td>0.285807</td>\n",
       "      <td>0.162024</td>\n",
       "    </tr>\n",
       "    <tr>\n",
       "      <th>9</th>\n",
       "      <td>0.578125</td>\n",
       "      <td>0.609375</td>\n",
       "      <td>0.625000</td>\n",
       "      <td>0.550723</td>\n",
       "      <td>0.571800</td>\n",
       "      <td>0.313101</td>\n",
       "    </tr>\n",
       "    <tr>\n",
       "      <th>10</th>\n",
       "      <td>0.609375</td>\n",
       "      <td>0.593750</td>\n",
       "      <td>0.562500</td>\n",
       "      <td>1.183853</td>\n",
       "      <td>1.225056</td>\n",
       "      <td>0.653711</td>\n",
       "    </tr>\n",
       "  </tbody>\n",
       "</table>\n",
       "</div>"
      ],
      "text/plain": [
       "     leadlag  timejoined  timeindexed  leadlag_elapsed  timejoined_elapsed  \\\n",
       "2   0.562500    0.640625     0.640625         0.005758            0.007644   \n",
       "3   0.593750    0.718750     0.640625         0.012811            0.014471   \n",
       "4   0.578125    0.640625     0.640625         0.022009            0.024327   \n",
       "5   0.578125    0.593750     0.562500         0.039215            0.039815   \n",
       "6   0.625000    0.593750     0.578125         0.068118            0.070439   \n",
       "7   0.562500    0.609375     0.578125         0.137824            0.139892   \n",
       "8   0.625000    0.625000     0.578125         0.271212            0.285807   \n",
       "9   0.578125    0.609375     0.625000         0.550723            0.571800   \n",
       "10  0.609375    0.593750     0.562500         1.183853            1.225056   \n",
       "\n",
       "    timeindexed_elapsed  \n",
       "2              0.018551  \n",
       "3              0.023167  \n",
       "4              0.027862  \n",
       "5              0.035772  \n",
       "6              0.050806  \n",
       "7              0.087163  \n",
       "8              0.162024  \n",
       "9              0.313101  \n",
       "10             0.653711  "
      ]
     },
     "execution_count": 5,
     "metadata": {},
     "output_type": "execute_result"
    }
   ],
   "source": [
    "lgr.loc['Herring']"
   ]
  },
  {
   "cell_type": "markdown",
   "metadata": {},
   "source": [
    "These are the classification scores of signatures + logistic regression on the \n",
    "Herring dataset. The index represents the truncation level of signature features.\n",
    "The elapsed training time is also included."
   ]
  },
  {
   "cell_type": "markdown",
   "metadata": {},
   "source": [
    "We'll only consider the actual classifcation scores:"
   ]
  },
  {
   "cell_type": "code",
   "execution_count": 6,
   "metadata": {},
   "outputs": [],
   "source": [
    "lgr = lgr[['leadlag', 'timejoined', 'timeindexed']]\n",
    "xgb = xgb[['leadlag', 'timejoined', 'timeindexed']]"
   ]
  },
  {
   "cell_type": "markdown",
   "metadata": {},
   "source": [
    "## Comparison between the classifiers\n",
    "Let's get a single score for each classifier by taking the maximum over all truncation levels and path embedding methods:"
   ]
  },
  {
   "cell_type": "code",
   "execution_count": 7,
   "metadata": {},
   "outputs": [],
   "source": [
    "compare = pd.concat([\n",
    "    lgr.max(level=0).max(axis=1),\n",
    "    xgb.max(level=0).max(axis=1),\n",
    "], axis=1, sort=True).dropna()\n",
    "compare.columns = [\"LogisticRegression\", \"XGBoost\"]"
   ]
  },
  {
   "cell_type": "code",
   "execution_count": 8,
   "metadata": {},
   "outputs": [
    {
     "data": {
      "text/html": [
       "<div>\n",
       "<style scoped>\n",
       "    .dataframe tbody tr th:only-of-type {\n",
       "        vertical-align: middle;\n",
       "    }\n",
       "\n",
       "    .dataframe tbody tr th {\n",
       "        vertical-align: top;\n",
       "    }\n",
       "\n",
       "    .dataframe thead th {\n",
       "        text-align: right;\n",
       "    }\n",
       "</style>\n",
       "<table border=\"1\" class=\"dataframe\">\n",
       "  <thead>\n",
       "    <tr style=\"text-align: right;\">\n",
       "      <th></th>\n",
       "      <th>LogisticRegression</th>\n",
       "      <th>XGBoost</th>\n",
       "    </tr>\n",
       "  </thead>\n",
       "  <tbody>\n",
       "    <tr>\n",
       "      <th>ACSF1</th>\n",
       "      <td>0.610000</td>\n",
       "      <td>0.770000</td>\n",
       "    </tr>\n",
       "    <tr>\n",
       "      <th>Adiac</th>\n",
       "      <td>0.516624</td>\n",
       "      <td>0.565217</td>\n",
       "    </tr>\n",
       "    <tr>\n",
       "      <th>ArrowHead</th>\n",
       "      <td>0.748571</td>\n",
       "      <td>0.668571</td>\n",
       "    </tr>\n",
       "    <tr>\n",
       "      <th>BME</th>\n",
       "      <td>0.986667</td>\n",
       "      <td>0.966667</td>\n",
       "    </tr>\n",
       "    <tr>\n",
       "      <th>Beef</th>\n",
       "      <td>0.833333</td>\n",
       "      <td>0.600000</td>\n",
       "    </tr>\n",
       "  </tbody>\n",
       "</table>\n",
       "</div>"
      ],
      "text/plain": [
       "           LogisticRegression   XGBoost\n",
       "ACSF1                0.610000  0.770000\n",
       "Adiac                0.516624  0.565217\n",
       "ArrowHead            0.748571  0.668571\n",
       "BME                  0.986667  0.966667\n",
       "Beef                 0.833333  0.600000"
      ]
     },
     "execution_count": 8,
     "metadata": {},
     "output_type": "execute_result"
    }
   ],
   "source": [
    "compare.head()"
   ]
  },
  {
   "cell_type": "markdown",
   "metadata": {},
   "source": [
    "There are 114 datasets in this dataframe. We can compute the mean classification score over all the datasets for the two classifiers:"
   ]
  },
  {
   "cell_type": "code",
   "execution_count": 9,
   "metadata": {},
   "outputs": [
    {
     "data": {
      "text/plain": [
       "LogisticRegression    0.776785\n",
       "XGBoost               0.729903\n",
       "dtype: float64"
      ]
     },
     "execution_count": 9,
     "metadata": {},
     "output_type": "execute_result"
    }
   ],
   "source": [
    "compare.mean()"
   ]
  },
  {
   "cell_type": "markdown",
   "metadata": {},
   "source": [
    "We see that logistic regression on signature features has better scores than XGBoost on log signature features. To visualize this, we can plot a scatter graph:"
   ]
  },
  {
   "cell_type": "code",
   "execution_count": 10,
   "metadata": {},
   "outputs": [
    {
     "data": {
      "text/plain": [
       "[<matplotlib.lines.Line2D at 0x7fd17bea1978>]"
      ]
     },
     "execution_count": 10,
     "metadata": {},
     "output_type": "execute_result"
    },
    {
     "data": {
      "image/png": "[encoded data removed]",
      "text/plain": [
       "<Figure size 432x288 with 1 Axes>"
      ]
     },
     "metadata": {
      "needs_background": "light"
     },
     "output_type": "display_data"
    }
   ],
   "source": [
    "ax = compare.plot.scatter(x='LogisticRegression', y='XGBoost')\n",
    "ax.plot([0.1,1],[0.1,1], c='darkorange') # add diagonal"
   ]
  },
  {
   "cell_type": "markdown",
   "metadata": {},
   "source": [
    "Each point in this figure represents the classification scores of a single dataset.\n",
    "That is, if we have a point $(x,y)$ in the figure, then $x$ is the classification score of logistic regression for that dataset while $y$ is the classification score of XGBoost for that dataset.\n",
    "\n",
    "Therefore, points that appear below the diagonal correspond to datasets on which logistic regression performs better; and vice versa.\n",
    "\n",
    "We see that most points appear below the diagonal, which seems to imply that **logistic regression + signature features** perform better."
   ]
  },
  {
   "cell_type": "markdown",
   "metadata": {},
   "source": [
    "## Comparison with Benchmarks\n",
    "\n",
    "Next, we compare these results with benchmark results of several\n",
    "state-of-the-art time series classification algorithms provided by the\n",
    "UCR repository.\n",
    "\n",
    "First, we download the benchmark results from www.timeseriesclassification.com."
   ]
  },
  {
   "cell_type": "code",
   "execution_count": 11,
   "metadata": {},
   "outputs": [],
   "source": [
    "def get_benchmarks(url='http://www.timeseriesclassification.com/singleTrainTest.csv'):\n",
    "    df = pd.read_csv(url)\n",
    "    df = df.set_index('Unnamed: 0', drop=True)\n",
    "    df.index.name = 'Dataset'\n",
    "    # Fix a few mismatches between dataset names\n",
    "    df = df.rename(index={\n",
    "        'CinCECGtorso': 'CinCECGTorso',\n",
    "        'StarlightCurves': 'StarLightCurves'\n",
    "    })\n",
    "    return df\n",
    "\n",
    "bm = get_benchmarks()"
   ]
  },
  {
   "cell_type": "code",
   "execution_count": 12,
   "metadata": {},
   "outputs": [
    {
     "data": {
      "text/html": [
       "<div>\n",
       "<style scoped>\n",
       "    .dataframe tbody tr th:only-of-type {\n",
       "        vertical-align: middle;\n",
       "    }\n",
       "\n",
       "    .dataframe tbody tr th {\n",
       "        vertical-align: top;\n",
       "    }\n",
       "\n",
       "    .dataframe thead th {\n",
       "        text-align: right;\n",
       "    }\n",
       "</style>\n",
       "<table border=\"1\" class=\"dataframe\">\n",
       "  <thead>\n",
       "    <tr style=\"text-align: right;\">\n",
       "      <th></th>\n",
       "      <th>NB</th>\n",
       "      <th>C45</th>\n",
       "      <th>SVML</th>\n",
       "      <th>SVMQ</th>\n",
       "      <th>BN</th>\n",
       "      <th>RandF</th>\n",
       "      <th>RotF</th>\n",
       "      <th>MLP</th>\n",
       "      <th>Euclidean_1NN</th>\n",
       "      <th>DTW_R1_1NN</th>\n",
       "      <th>...</th>\n",
       "      <th>BOSS</th>\n",
       "      <th>TSF</th>\n",
       "      <th>TSBF</th>\n",
       "      <th>LPS</th>\n",
       "      <th>ACF</th>\n",
       "      <th>PS</th>\n",
       "      <th>EE</th>\n",
       "      <th>CID_DTW</th>\n",
       "      <th>Flat-COTE</th>\n",
       "      <th>HIVE-COTE</th>\n",
       "    </tr>\n",
       "    <tr>\n",
       "      <th>Dataset</th>\n",
       "      <th></th>\n",
       "      <th></th>\n",
       "      <th></th>\n",
       "      <th></th>\n",
       "      <th></th>\n",
       "      <th></th>\n",
       "      <th></th>\n",
       "      <th></th>\n",
       "      <th></th>\n",
       "      <th></th>\n",
       "      <th></th>\n",
       "      <th></th>\n",
       "      <th></th>\n",
       "      <th></th>\n",
       "      <th></th>\n",
       "      <th></th>\n",
       "      <th></th>\n",
       "      <th></th>\n",
       "      <th></th>\n",
       "      <th></th>\n",
       "      <th></th>\n",
       "    </tr>\n",
       "  </thead>\n",
       "  <tbody>\n",
       "    <tr>\n",
       "      <th>Adiac</th>\n",
       "      <td>0.562660</td>\n",
       "      <td>0.542199</td>\n",
       "      <td>0.442455</td>\n",
       "      <td>0.762148</td>\n",
       "      <td>0.501279</td>\n",
       "      <td>0.636829</td>\n",
       "      <td>0.774936</td>\n",
       "      <td>0.736573</td>\n",
       "      <td>0.611253</td>\n",
       "      <td>0.603581</td>\n",
       "      <td>...</td>\n",
       "      <td>0.764706</td>\n",
       "      <td>0.731458</td>\n",
       "      <td>0.769821</td>\n",
       "      <td>0.769821</td>\n",
       "      <td>0.664962</td>\n",
       "      <td>0.751918</td>\n",
       "      <td>0.664962</td>\n",
       "      <td>0.624041</td>\n",
       "      <td>0.790281</td>\n",
       "      <td>0.810742</td>\n",
       "    </tr>\n",
       "    <tr>\n",
       "      <th>ArrowHead</th>\n",
       "      <td>0.542857</td>\n",
       "      <td>0.605714</td>\n",
       "      <td>0.731429</td>\n",
       "      <td>0.742857</td>\n",
       "      <td>0.571429</td>\n",
       "      <td>0.714286</td>\n",
       "      <td>0.737143</td>\n",
       "      <td>0.708571</td>\n",
       "      <td>0.800000</td>\n",
       "      <td>0.702857</td>\n",
       "      <td>...</td>\n",
       "      <td>0.834286</td>\n",
       "      <td>0.725714</td>\n",
       "      <td>0.754286</td>\n",
       "      <td>0.782857</td>\n",
       "      <td>0.645714</td>\n",
       "      <td>0.474286</td>\n",
       "      <td>0.811429</td>\n",
       "      <td>0.828571</td>\n",
       "      <td>0.811429</td>\n",
       "      <td>0.862857</td>\n",
       "    </tr>\n",
       "    <tr>\n",
       "      <th>Beef</th>\n",
       "      <td>0.666667</td>\n",
       "      <td>0.533333</td>\n",
       "      <td>0.900000</td>\n",
       "      <td>0.933333</td>\n",
       "      <td>0.600000</td>\n",
       "      <td>0.733333</td>\n",
       "      <td>0.866667</td>\n",
       "      <td>0.600000</td>\n",
       "      <td>0.666667</td>\n",
       "      <td>0.633333</td>\n",
       "      <td>...</td>\n",
       "      <td>0.800000</td>\n",
       "      <td>0.766667</td>\n",
       "      <td>0.566667</td>\n",
       "      <td>0.600000</td>\n",
       "      <td>0.733333</td>\n",
       "      <td>0.733333</td>\n",
       "      <td>0.633333</td>\n",
       "      <td>0.633333</td>\n",
       "      <td>0.866667</td>\n",
       "      <td>0.933333</td>\n",
       "    </tr>\n",
       "    <tr>\n",
       "      <th>BeetleFly</th>\n",
       "      <td>0.750000</td>\n",
       "      <td>0.900000</td>\n",
       "      <td>0.800000</td>\n",
       "      <td>0.850000</td>\n",
       "      <td>0.850000</td>\n",
       "      <td>0.800000</td>\n",
       "      <td>0.900000</td>\n",
       "      <td>0.800000</td>\n",
       "      <td>0.750000</td>\n",
       "      <td>0.700000</td>\n",
       "      <td>...</td>\n",
       "      <td>0.900000</td>\n",
       "      <td>0.750000</td>\n",
       "      <td>0.800000</td>\n",
       "      <td>0.800000</td>\n",
       "      <td>0.650000</td>\n",
       "      <td>0.850000</td>\n",
       "      <td>0.750000</td>\n",
       "      <td>0.750000</td>\n",
       "      <td>0.800000</td>\n",
       "      <td>0.950000</td>\n",
       "    </tr>\n",
       "    <tr>\n",
       "      <th>BirdChicken</th>\n",
       "      <td>0.550000</td>\n",
       "      <td>0.800000</td>\n",
       "      <td>0.650000</td>\n",
       "      <td>0.800000</td>\n",
       "      <td>0.600000</td>\n",
       "      <td>0.750000</td>\n",
       "      <td>0.850000</td>\n",
       "      <td>0.600000</td>\n",
       "      <td>0.550000</td>\n",
       "      <td>0.750000</td>\n",
       "      <td>...</td>\n",
       "      <td>0.950000</td>\n",
       "      <td>0.800000</td>\n",
       "      <td>0.900000</td>\n",
       "      <td>1.000000</td>\n",
       "      <td>0.850000</td>\n",
       "      <td>0.950000</td>\n",
       "      <td>0.800000</td>\n",
       "      <td>0.750000</td>\n",
       "      <td>0.900000</td>\n",
       "      <td>0.850000</td>\n",
       "    </tr>\n",
       "  </tbody>\n",
       "</table>\n",
       "<p>5 rows × 37 columns</p>\n",
       "</div>"
      ],
      "text/plain": [
       "                   NB       C45      SVML      SVMQ        BN     RandF  \\\n",
       "Dataset                                                                   \n",
       "Adiac        0.562660  0.542199  0.442455  0.762148  0.501279  0.636829   \n",
       "ArrowHead    0.542857  0.605714  0.731429  0.742857  0.571429  0.714286   \n",
       "Beef         0.666667  0.533333  0.900000  0.933333  0.600000  0.733333   \n",
       "BeetleFly    0.750000  0.900000  0.800000  0.850000  0.850000  0.800000   \n",
       "BirdChicken  0.550000  0.800000  0.650000  0.800000  0.600000  0.750000   \n",
       "\n",
       "                 RotF       MLP  Euclidean_1NN  DTW_R1_1NN  ...      BOSS  \\\n",
       "Dataset                                                     ...             \n",
       "Adiac        0.774936  0.736573       0.611253    0.603581  ...  0.764706   \n",
       "ArrowHead    0.737143  0.708571       0.800000    0.702857  ...  0.834286   \n",
       "Beef         0.866667  0.600000       0.666667    0.633333  ...  0.800000   \n",
       "BeetleFly    0.900000  0.800000       0.750000    0.700000  ...  0.900000   \n",
       "BirdChicken  0.850000  0.600000       0.550000    0.750000  ...  0.950000   \n",
       "\n",
       "                  TSF      TSBF       LPS       ACF        PS        EE  \\\n",
       "Dataset                                                                   \n",
       "Adiac        0.731458  0.769821  0.769821  0.664962  0.751918  0.664962   \n",
       "ArrowHead    0.725714  0.754286  0.782857  0.645714  0.474286  0.811429   \n",
       "Beef         0.766667  0.566667  0.600000  0.733333  0.733333  0.633333   \n",
       "BeetleFly    0.750000  0.800000  0.800000  0.650000  0.850000  0.750000   \n",
       "BirdChicken  0.800000  0.900000  1.000000  0.850000  0.950000  0.800000   \n",
       "\n",
       "              CID_DTW  Flat-COTE  HIVE-COTE  \n",
       "Dataset                                      \n",
       "Adiac        0.624041   0.790281   0.810742  \n",
       "ArrowHead    0.828571   0.811429   0.862857  \n",
       "Beef         0.633333   0.866667   0.933333  \n",
       "BeetleFly    0.750000   0.800000   0.950000  \n",
       "BirdChicken  0.750000   0.900000   0.850000  \n",
       "\n",
       "[5 rows x 37 columns]"
      ]
     },
     "execution_count": 12,
     "metadata": {},
     "output_type": "execute_result"
    }
   ],
   "source": [
    "bm.head()"
   ]
  },
  {
   "cell_type": "markdown",
   "metadata": {},
   "source": [
    "We see that the benchmarks contains results for 37 different algorithms.\n",
    "Let's join these with our results:"
   ]
  },
  {
   "cell_type": "code",
   "execution_count": 13,
   "metadata": {},
   "outputs": [],
   "source": [
    "df = pd.concat([bm, compare], axis=1, sort=True).dropna(thresh=3) # drop row if less than 3 non-NA values"
   ]
  },
  {
   "cell_type": "markdown",
   "metadata": {},
   "source": [
    "The benchmarks only contain results for 85 out of 128 datasets.\n",
    "This is a subset of our results on 114 datasets.\n",
    "\n",
    "Let's look at how often each algorithm performs the best on the datasets\n",
    "to obtain a rough ranking between the algorithms."
   ]
  },
  {
   "cell_type": "code",
   "execution_count": 14,
   "metadata": {},
   "outputs": [
    {
     "data": {
      "text/plain": [
       "HIVE-COTE             20\n",
       "ST                    10\n",
       "BOSS                   6\n",
       "SAXVSM                 6\n",
       "LogisticRegression     5\n",
       "Flat-COTE              4\n",
       "MLP                    3\n",
       "DTW_R1_1NN             3\n",
       "EE                     3\n",
       "SVMQ                   3\n",
       "RotF                   3\n",
       "SVML                   3\n",
       "FS                     2\n",
       "LS                     2\n",
       "MSM_1NN                2\n",
       "RandF                  2\n",
       "NB                     1\n",
       "DDTW_Rn_1NN            1\n",
       "WDDTW_1NN              1\n",
       "DD_DTW                 1\n",
       "WDTW_1NN               1\n",
       "ACF                    1\n",
       "LPS                    1\n",
       "TWE_1NN                1\n",
       "dtype: int64"
      ]
     },
     "execution_count": 14,
     "metadata": {},
     "output_type": "execute_result"
    }
   ],
   "source": [
    "df.idxmax(axis=1).value_counts()"
   ]
  },
  {
   "cell_type": "markdown",
   "metadata": {},
   "source": [
    "We see that [HIVE-COTE](https://dl.acm.org/citation.cfm?id=3182382) performs the best on 20 datasets\n",
    "whereas our LogisticRegression + signatures performs the best on 5 datasets.\n",
    "There is no dataset on which log signatures + XGBoost performs the best.\n",
    "\n",
    "Let's visually compare HIVE-COTE with our classifiers through a scatter plot."
   ]
  },
  {
   "cell_type": "code",
   "execution_count": 15,
   "metadata": {},
   "outputs": [
    {
     "data": {
      "text/plain": [
       "[<matplotlib.lines.Line2D at 0x7fd179c51e10>]"
      ]
     },
     "execution_count": 15,
     "metadata": {},
     "output_type": "execute_result"
    },
    {
     "data": {
      "image/png": "[encoded data removed]",
      "text/plain": [
       "<Figure size 432x288 with 1 Axes>"
      ]
     },
     "metadata": {
      "needs_background": "light"
     },
     "output_type": "display_data"
    },
    {
     "data": {
      "image/png": "[encoded data removed]",
      "text/plain": [
       "<Figure size 432x288 with 1 Axes>"
      ]
     },
     "metadata": {
      "needs_background": "light"
     },
     "output_type": "display_data"
    }
   ],
   "source": [
    "ax = df.plot.scatter(x='LogisticRegression', y='HIVE-COTE')\n",
    "ax.plot([0.1,1],[0.1,1], c='darkorange') # add diagonal\n",
    "\n",
    "ax = df.plot.scatter(x='XGBoost', y='HIVE-COTE')\n",
    "ax.plot([0.1,1],[0.1,1], c='darkorange') # add diagonal"
   ]
  },
  {
   "cell_type": "markdown",
   "metadata": {},
   "source": [
    "We see that in most cases, the HIVE-COTE classifier outperforms our results.\n",
    "However, there is a handful of datasets in which signatures have an edge.\n",
    "Since HIVE-COTE is an ensemble of classifiers and feature sets, it might\n",
    "be interesting to see if integrating signature features into this ensemble\n",
    "will boost its performance."
   ]
  },
  {
   "cell_type": "code",
   "execution_count": null,
   "metadata": {},
   "outputs": [],
   "source": []
  }
 ],
 "metadata": {
  "kernelspec": {
   "display_name": "Python 3",
   "language": "python",
   "name": "python3"
  },
  "language_info": {
   "codemirror_mode": {
    "name": "ipython",
    "version": 3
   },
   "file_extension": ".py",
   "mimetype": "text/x-python",
   "name": "python",
   "nbconvert_exporter": "python",
   "pygments_lexer": "ipython3",
   "version": "3.7.2"
  }
 },
 "nbformat": 4,
 "nbformat_minor": 2
}
